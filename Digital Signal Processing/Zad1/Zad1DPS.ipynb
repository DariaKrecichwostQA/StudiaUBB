{
 "cells": [
  {
   "cell_type": "code",
   "execution_count": null,
   "id": "9b5e081f-f20f-46d2-8520-5cb7c3b5801d",
   "metadata": {},
   "outputs": [],
   "source": [
    "import numpy as np\n",
    "import matplotlib.pyplot as plt\n",
    "\n",
    "def idft_matrix(N):\n",
    "    W_N = np.exp(-2j * np.pi * np.outer(np.arange(N), np.arange(N)) / N)\n",
    "    return W_N\n",
    "\n",
    "def synthesize_signal(X_mu):\n",
    "    N = len(X_mu)\n",
    "    W_N = idft_matrix(N)\n",
    "    x_mu = np.dot(W_N.conj().T, X_mu) / N\n",
    "    return x_mu\n",
    "\n",
    "X_mu = np.array([6, 2, 4, 4, 4, 5, 0, 0, 0, 0], dtype=complex)\n",
    "\n",
    "print(f\"Synthesizing signal for X_mu = {X_mu}\")\n",
    "\n",
    "x_mu_synthesized = synthesize_signal(X_mu)\n",
    "\n",
    "plt.figure(figsize=(10, 6))\n",
    "plt.stem(np.real(x_mu_synthesized), linefmt='b-', markerfmt='bo', basefmt='r-')\n",
    "plt.title('Zsyntetyzowany sygnał (Część rzeczywista)')\n",
    "plt.xlabel('Indeks próbki')\n",
    "plt.ylabel('Amplituda')\n",
    "plt.grid(True)\n",
    "plt.show()\n",
    "\n",
    "print(\"Plot generated successfully: Real Part of Synthesized Signal\")\n",
    "\n",
    "plt.figure(figsize=(10, 6))\n",
    "plt.stem(np.imag(x_mu_synthesized), linefmt='g-', markerfmt='go', basefmt='r-')\n",
    "plt.title('Zsyntetyzowany sygnał (Część urojona)')\n",
    "plt.xlabel('Indeks próbki')\n",
    "plt.ylabel('Amplituda')\n",
    "plt.grid(True)\n",
    "plt.show()\n",
    "\n",
    "print(\"Plot generated successfully: Imaginary Part of Synthesized Signal\")\n"
   ]
  }
 ],
 "metadata": {
  "kernelspec": {
   "display_name": "Python 3",
   "language": "python",
   "name": "python3"
  },
  "language_info": {
   "codemirror_mode": {
    "name": "ipython",
    "version": 3
   },
   "file_extension": ".py",
   "mimetype": "text/x-python",
   "name": "python",
   "nbconvert_exporter": "python",
   "pygments_lexer": "ipython3",
   "version": "3.12.7"
  }
 },
 "nbformat": 4,
 "nbformat_minor": 5
}
